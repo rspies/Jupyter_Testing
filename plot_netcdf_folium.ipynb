{
 "cells": [
  {
   "cell_type": "markdown",
   "metadata": {},
   "source": [
    "# This notebook plots a map image of WRF-Hydro NetCDF grids"
   ]
  },
  {
   "cell_type": "code",
   "execution_count": 131,
   "metadata": {},
   "outputs": [],
   "source": [
    "# turn on interactive plotting\n",
    "%matplotlib notebook  "
   ]
  },
  {
   "cell_type": "code",
   "execution_count": 132,
   "metadata": {},
   "outputs": [],
   "source": [
    "# turn off warnings for deprecated code in matplotlib \n",
    "import warnings\n",
    "warnings.filterwarnings('ignore')"
   ]
  },
  {
   "cell_type": "code",
   "execution_count": 133,
   "metadata": {},
   "outputs": [],
   "source": [
    "from netCDF4 import Dataset\n",
    "import numpy as np\n",
    "import matplotlib.pyplot as plt\n",
    "from mpl_toolkits.basemap import Basemap\n",
    "import mplleaflet\n",
    "import pandas as pd"
   ]
  },
  {
   "cell_type": "code",
   "execution_count": 134,
   "metadata": {},
   "outputs": [],
   "source": [
    "model_in = 'D:/Jupyter_Notebooks/Testing/data/geo_em.d01.boulder_creek_1km.nc'\n",
    "model_out = 'D:/Jupyter_Notebooks/Testing/data/2014081216_LDASOUT_DOMAIN1'\n",
    "geo = Dataset(model_in, mode='r')\n",
    "nc = Dataset(model_out, mode='r')"
   ]
  },
  {
   "cell_type": "code",
   "execution_count": 135,
   "metadata": {},
   "outputs": [
    {
     "data": {
      "text/plain": [
       "odict_keys(['Times', 'XLAT_M', 'XLONG_M', 'XLAT_V', 'XLONG_V', 'XLAT_U', 'XLONG_U', 'CLAT', 'CLONG', 'MAPFAC_M', 'MAPFAC_V', 'MAPFAC_U', 'MAPFAC_MX', 'MAPFAC_VX', 'MAPFAC_UX', 'MAPFAC_MY', 'MAPFAC_VY', 'MAPFAC_UY', 'E', 'F', 'SINALPHA', 'COSALPHA', 'LANDMASK', 'LANDUSEF', 'LU_INDEX', 'HGT_M', 'SLPX', 'SLPY', 'SOILTEMP', 'SOILCTOP', 'SCT_DOM', 'SOILCBOT', 'SCB_DOM', 'ALBEDO12M', 'GREENFRAC', 'SNOALB', 'SLOPECAT', 'CON', 'VAR', 'OA1', 'OA2', 'OA3', 'OA4', 'OL1', 'OL2', 'OL3', 'OL4', 'VAR_SSO'])"
      ]
     },
     "execution_count": 135,
     "metadata": {},
     "output_type": "execute_result"
    }
   ],
   "source": [
    "geo.variables.keys()"
   ]
  },
  {
   "cell_type": "code",
   "execution_count": 136,
   "metadata": {},
   "outputs": [
    {
     "data": {
      "text/plain": [
       "odict_keys(['Times', 'IVGTYP', 'ISLTYP', 'SKINTEMP', 'CANWAT', 'SOIL_T', 'SOIL_M', 'SOIL_W', 'SOIL_MX', 'SFCRNOFF', 'UGDRNOFF', 'INTRFLOW', 'SFCEVP', 'ETPND', 'ETAKIN', 'CANEVP', 'EDIRX', 'ETTX', 'ALBEDX', 'WEASD', 'ACRAIN', 'ACSNOM', 'ESNOW', 'DRIP', 'DEWFALL', 'SNODEP', 'VEGFRA', 'Z0', 'HFX', 'QFX', 'GRDFLX', 'SW', 'LW', 'FDOWN', 'XLAI', 'SNOTIME', 'EMBRD', 'SNOALB', 'NOAHRES', 'CH'])"
      ]
     },
     "execution_count": 136,
     "metadata": {},
     "output_type": "execute_result"
    }
   ],
   "source": [
    "nc.variables.keys()\n",
    "#nc.variables"
   ]
  },
  {
   "cell_type": "code",
   "execution_count": 137,
   "metadata": {},
   "outputs": [],
   "source": [
    "lats = geo.variables['XLAT_M'][0,::-1,:] # these are 3D arrays and needed to be reduced to 2d\n",
    "lons = geo.variables['XLONG_M'][0,::-1,:]\n",
    "#luse = np.array(nc.variables['LANDUSEF'][0,::-1,:]) # land use is multidimensional (each cat is a dimension: 24)\n",
    "#df = pd.DataFrame(lats)\n",
    "#ax = df.plot()"
   ]
  },
  {
   "cell_type": "code",
   "execution_count": null,
   "metadata": {},
   "outputs": [
    {
     "name": "stdout",
     "output_type": "stream",
     "text": [
      "-105.718,39.7833,-105.144,40.096\n"
     ]
    }
   ],
   "source": [
    "lon_0 = lons.mean()\n",
    "lat_0 = lats.mean()\n",
    "lat_min = lats.min()\n",
    "lon_min = lons.min()\n",
    "lat_max = lats.max()\n",
    "lon_max = lons.max()\n",
    "print(str(lon_min)+','+str(lat_min)+','+str(lon_max)+','+str(lat_max))"
   ]
  },
  {
   "cell_type": "code",
   "execution_count": null,
   "metadata": {},
   "outputs": [],
   "source": [
    "m = Basemap(width=5000000,height=3500000,\n",
    "            resolution='i',epsg=26954,\\\n",
    "            lat_ts=40,lat_0=lat_0,lon_0=lon_0, llcrnrlon=lon_min,llcrnrlat=lat_min,urcrnrlon=lon_max,urcrnrlat=lat_max)"
   ]
  },
  {
   "cell_type": "code",
   "execution_count": null,
   "metadata": {},
   "outputs": [],
   "source": [
    "#lon, lat = np.meshgrid(lons, lats)\n",
    "xi, yi = m(lons, lats)"
   ]
  },
  {
   "cell_type": "code",
   "execution_count": null,
   "metadata": {},
   "outputs": [],
   "source": [
    "var = 'SFCRNOFF' # Enter the variable id to plot\n",
    "var_data = np.array(nc.variables[var][0,::-1,:])\n",
    "var_units = nc.variables[var].units\n",
    "var_desc = nc.variables[var].description\n",
    "\n",
    "# mask invalid data\n",
    "var_plot = np.ma.masked_less(var_data, -9999)\n",
    "\n",
    "# infor about variable to be plotted\n",
    "nc.variables[var]"
   ]
  },
  {
   "cell_type": "code",
   "execution_count": null,
   "metadata": {
    "scrolled": true
   },
   "outputs": [],
   "source": [
    "# Plot desired grid\n",
    "cs = m.pcolormesh(xi,yi,var_plot)"
   ]
  },
  {
   "cell_type": "code",
   "execution_count": null,
   "metadata": {},
   "outputs": [],
   "source": [
    "nc.close()"
   ]
  },
  {
   "cell_type": "code",
   "execution_count": null,
   "metadata": {},
   "outputs": [],
   "source": [
    "plt.savefig('netcdf_image_out.png',bbox_inches='tight')"
   ]
  },
  {
   "cell_type": "code",
   "execution_count": null,
   "metadata": {},
   "outputs": [],
   "source": [
    "import folium\n",
    "from folium import plugins\n",
    "import mplleaflet\n",
    "print(folium.__version__)"
   ]
  },
  {
   "cell_type": "code",
   "execution_count": null,
   "metadata": {},
   "outputs": [],
   "source": [
    "def inline_map(m):\n",
    "    from folium import Map\n",
    "    from IPython.display import HTML, IFrame\n",
    "    if isinstance(m, Map):\n",
    "        m._build_map()\n",
    "        srcdoc = m.HTML.replace('\"', '&quot;')\n",
    "        embed = HTML('<iframe srcdoc=\"{srcdoc}\" '\n",
    "                     'style=\"width: 100%; height: 500px; '\n",
    "                     'border: none\"></iframe>'.format(srcdoc=srcdoc))\n",
    "    elif isinstance(m, str):\n",
    "        embed = IFrame(m, width=750, height=500)\n",
    "    return embed"
   ]
  },
  {
   "cell_type": "code",
   "execution_count": null,
   "metadata": {},
   "outputs": [],
   "source": [
    "mf = folium.Map(location=[39.9, -105.38], tiles='Stamen Terrain',\n",
    "                   zoom_start=10, control_scale=True, prefer_canvas=True)"
   ]
  },
  {
   "cell_type": "code",
   "execution_count": null,
   "metadata": {},
   "outputs": [],
   "source": [
    "outfp = \"folium_test_map.html\""
   ]
  },
  {
   "cell_type": "code",
   "execution_count": null,
   "metadata": {
    "scrolled": true
   },
   "outputs": [],
   "source": [
    "img = plugins.ImageOverlay(name=str(var_desc)+' '+str(var_units),image='netcdf_image_out.png',bounds=[[float(lat_min), float(lon_min)], [float(lat_max), float(lon_max)]],\n",
    "                          opacity=0.5,interactive=True,pixelated=True,control=True)"
   ]
  },
  {
   "cell_type": "code",
   "execution_count": null,
   "metadata": {},
   "outputs": [],
   "source": [
    "usdm= folium.features.WmsTileLayer(\"http://ndmc-001.unl.edu:8080/cgi-bin/mapserv.exe?map=/ms4w/apps/usdm/service/usdm_current_wms.map&SERVICE=WMS&VERSION=1.3.0&REQUEST=GetMap&LAYERS=usdm_current&WIDTH=640&HEIGHT=480&crs=EPSG:3857&styles=default&format=image/png&bbox=-18367715.9809,1689200.13961,-6679169.4476,15538711.0963\", \n",
    "                    layers=\"usdm_current\",transparent=True, format=\"image/png\",name=\"USDM\",version=\"1.3\",overlay=True, control=True)\n",
    "vegdri= folium.features.WmsTileLayer(\"https://vegdri.cr.usgs.gov/wms.php?TRANSPARENT=true&PROJECTION=EPSG%3A900913&UNITS=m&LAYERS=DROUGHT_VDRI_EMODIS_1&MAXEXTENT=NaN%2C%2C%2C&SERVICE=WMS&VERSION=1.1.1&REQUEST=GetMap&STYLES=qdri_vegdri_raster&FORMAT=image%2Fpng&SRS=EPSG%3A900913&BBOX=-15812679.213931,1442518.8685938,-5187320.7860688,7557481.1314062&WIDTH=1086&HEIGHT=625\", \n",
    "                    layers=\"DROUGHT_VDRI_EMODIS_1\",transparent=True, format=\"image/png\",version=\"1.1.1\",overlay=True, control=True)"
   ]
  },
  {
   "cell_type": "code",
   "execution_count": null,
   "metadata": {},
   "outputs": [],
   "source": [
    "#mf.add_children(usdm)\n",
    "#mf.add_children(vegdri)\n",
    "mf.add_children(img)\n",
    "mf.add_children(folium.map.LayerControl())\n",
    "mf.save(outfp)"
   ]
  },
  {
   "cell_type": "code",
   "execution_count": null,
   "metadata": {
    "scrolled": true
   },
   "outputs": [],
   "source": [
    "mf"
   ]
  },
  {
   "cell_type": "code",
   "execution_count": null,
   "metadata": {},
   "outputs": [],
   "source": [
    "inline_map(\"folium_test_map.html\")"
   ]
  }
 ],
 "metadata": {
  "kernelspec": {
   "display_name": "Python 3",
   "language": "python",
   "name": "python3"
  },
  "language_info": {
   "codemirror_mode": {
    "name": "ipython",
    "version": 3
   },
   "file_extension": ".py",
   "mimetype": "text/x-python",
   "name": "python",
   "nbconvert_exporter": "python",
   "pygments_lexer": "ipython3",
   "version": "3.5.3"
  }
 },
 "nbformat": 4,
 "nbformat_minor": 2
}
